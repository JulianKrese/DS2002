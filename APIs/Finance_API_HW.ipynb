{
  "nbformat": 4,
  "nbformat_minor": 0,
  "metadata": {
    "colab": {
      "provenance": []
    },
    "kernelspec": {
      "name": "python3",
      "display_name": "Python 3"
    },
    "language_info": {
      "name": "python"
    }
  },
  "cells": [
    {
      "cell_type": "markdown",
      "source": [
        "Task 1: Fetch Basic Stock Data 10pts\n",
        "- Prompt the user to input two or more stock symbols.\n",
        "- Use the API to fetch data for the given symbols.\n",
        "- Extract and display only the Stock Ticker, Company Name, and Current Market Price"
      ],
      "metadata": {
        "id": "r_Y1MRYgrfqI"
      }
    },
    {
      "cell_type": "code",
      "execution_count": 5,
      "metadata": {
        "colab": {
          "base_uri": "https://localhost:8080/"
        },
        "id": "e8OlHUSprb2y",
        "outputId": "664d9a32-3b3a-4b80-f6be-753df770af09"
      },
      "outputs": [
        {
          "output_type": "stream",
          "name": "stdout",
          "text": [
            "Enter 2 or more stock options, separated by commas without spaces\n",
            "AAPL,GOOGL\n",
            "---------------------------------------------\n",
            "TICKER  |     NAME    |  CURRENT MARKET PRICE\n",
            "---------------------------------------------\n",
            "AAPL   |   Apple Inc.   |   240.36\n",
            "GOOGL   |   Alphabet Inc.   |   172.73\n"
          ]
        }
      ],
      "source": [
        "import requests\n",
        "import json\n",
        "\n",
        "yahoo_apikey = \"TVd8uCH8ud1nnXTKFJgW95WPMAZw48Nm6x73P1Y6\"\n",
        "headers = {\"x-api-key\" : yahoo_apikey}\n",
        "\n",
        "url = \"https://yfapi.net/v6/finance/quote\"\n",
        "\n",
        "print(\"Enter 2 or more stock options, separated by commas without spaces\")\n",
        "symbols = input()\n",
        "\n",
        "querystring = {\"symbols\" : symbols}\n",
        "\n",
        "response = requests.request(\"GET\", url, headers=headers, params=querystring)\n",
        "response = response.json()[\"quoteResponse\"][\"result\"]\n",
        "print(\"---------------------------------------------\")\n",
        "print(\"TICKER  |     NAME    |  CURRENT MARKET PRICE\")\n",
        "print(\"---------------------------------------------\")\n",
        "for stock_result in response:\n",
        "    symbol, name, market_price = stock_result[\"symbol\"], stock_result[\"longName\"], stock_result[\"regularMarketPrice\"]\n",
        "    print(symbol, \"  |  \", name, \"  |  \", market_price)\n"
      ]
    },
    {
      "cell_type": "markdown",
      "source": [
        "Task 2.1: Fetch Additional Data Using Modules 10pts\n",
        "- Allow the user to choose a module from the Quote Summary Endpoint.\n",
        "Find:\n",
        "  - 52 Week High\n",
        "  - 52 Week Low\n",
        "  - Return on Assets (ROA)\n",
        "- Make an API request using the chosen module.\n",
        "- Convert the response into a Pandas DataFrame.\n",
        "- Display the DataFrame."
      ],
      "metadata": {
        "id": "15FX_Ejg3jQ1"
      }
    },
    {
      "cell_type": "code",
      "source": [
        "import pandas as pd\n",
        "\n",
        "# I got confused here because it seems as though 52 week high, 52 week low, and\n",
        "# ROA are in two different modules, not a random user-chosen module, meaning I can't\n",
        "# find all 3 within the user-chosen module. I wasn't entirely sure what to do, so\n",
        "# to get around it I just queried the API for the user's specific module along with\n",
        "# the modules that contain the 3 things we were meant to find. I'm assuming this\n",
        "# will be fine because it is still just using an API endpoint and sifting through\n",
        "# the results.\n",
        "\n",
        "print(\"Enter a stock symbol\")\n",
        "symbol = input()\n",
        "\n",
        "print(\"Enter a module for \" + symbol)\n",
        "module = input()\n",
        "all_modules = module + \",summaryDetail,financialData\"\n",
        "\n",
        "url = \"https://yfapi.net/v11/finance/quoteSummary/\" + symbol\n",
        "querystring = {\"modules\": all_modules}\n",
        "\n",
        "response = requests.request(\"GET\", url, headers=headers, params=querystring)\n",
        "response = response.json()[\"quoteSummary\"][\"result\"][0]\n",
        "user_module_df = pd.DataFrame(response[module])\n",
        "print(\"\\nHere is \" + symbol + \"'s \" + module + \" module\")\n",
        "print(user_module_df)\n",
        "\n",
        "roa_fmt = response[\"financialData\"][\"returnOnAssets\"][\"fmt\"]\n",
        "fiftytwo_week_low = response[\"summaryDetail\"][\"fiftyTwoWeekLow\"][\"fmt\"]\n",
        "fiftytwo_week_high = response[\"summaryDetail\"][\"fiftyTwoWeekHigh\"][\"fmt\"]\n",
        "\n",
        "print(\"\\nAdditionally, here is some other relavent data to \" + symbol + \"...\")\n",
        "print(\"\\t-The 52 Week High for \" + symbol + \" was \" + fiftytwo_week_high)\n",
        "print(\"\\t-The 52 Week Low for \" + symbol + \" was \" + fiftytwo_week_low)\n",
        "print(\"\\t-The return on assests for \" + symbol + \" was \" + roa_fmt)"
      ],
      "metadata": {
        "colab": {
          "base_uri": "https://localhost:8080/"
        },
        "id": "O2tMbUns3wvt",
        "outputId": "0372a782-d2ca-4ab8-eb80-c0b275995e12"
      },
      "execution_count": 33,
      "outputs": [
        {
          "output_type": "stream",
          "name": "stdout",
          "text": [
            "Enter a stock symbol\n",
            "AAPL\n",
            "Enter a module for AAPL\n",
            "price\n",
            "\n",
            "Here is AAPL's price module\n",
            "         maxAge preMarketChangePercent preMarketChange  preMarketTime  \\\n",
            "raw           1              -0.011334        -2.79999     1740580199   \n",
            "fmt           1                 -1.13%           -2.80     1740580199   \n",
            "longFmt       1                    NaN             NaN     1740580199   \n",
            "\n",
            "        preMarketPrice preMarketSource postMarketChangePercent  \\\n",
            "raw             244.24   FREE_REALTIME               -0.003162   \n",
            "fmt             244.24   FREE_REALTIME                  -0.32%   \n",
            "longFmt            NaN   FREE_REALTIME                     NaN   \n",
            "\n",
            "        postMarketChange  postMarketTime postMarketPrice  ... currency  \\\n",
            "raw            -0.759995      1740617991           239.6  ...      USD   \n",
            "fmt                -0.76      1740617991          239.60  ...      USD   \n",
            "longFmt              NaN      1740617991             NaN  ...      USD   \n",
            "\n",
            "                quoteSourceName currencySymbol  fromCurrency toCurrency  \\\n",
            "raw      Nasdaq Real Time Price              $          None       None   \n",
            "fmt      Nasdaq Real Time Price              $          None       None   \n",
            "longFmt  Nasdaq Real Time Price              $          None       None   \n",
            "\n",
            "        lastMarket volume24Hr volumeAllCurrencies circulatingSupply  \\\n",
            "raw           None        NaN                 NaN               NaN   \n",
            "fmt           None        NaN                 NaN               NaN   \n",
            "longFmt       None        NaN                 NaN               NaN   \n",
            "\n",
            "                    marketCap  \n",
            "raw             3610712211456  \n",
            "fmt                     3.61T  \n",
            "longFmt  3,610,712,211,456.00  \n",
            "\n",
            "[3 rows x 45 columns]\n",
            "\n",
            "Additionally, here is some other relavent data to AAPL...\n",
            "\t-The 52 Week High for AAPL was 260.10\n",
            "\t-The 52 Week Low for AAPL was 164.08\n",
            "\t-The return on assests for AAPL was 22.52%\n"
          ]
        }
      ]
    },
    {
      "cell_type": "markdown",
      "source": [
        "Task 2.2: Fetch Additional Data Using Modules 10pts\n",
        "- Find Current Trending Stocks , Their Actual Name and Ticker and Current Price as well as\n",
        "their 52 high and low"
      ],
      "metadata": {
        "id": "vjzPYZTQ31xJ"
      }
    },
    {
      "cell_type": "code",
      "source": [
        "# have to specify region, going with the US for simplicity sake\n",
        "\n",
        "url = \"https://yfapi.net/v1/finance/trending/US\"\n",
        "\n",
        "response = requests.request(\"GET\", url, headers=headers)\n",
        "tickers = response.json()[\"finance\"][\"result\"][0][\"quotes\"]\n",
        "\n",
        "try:\n",
        "    print(\"---------------------------------------------------------------------\")\n",
        "    print(\"TICKER  |        NAME           |  CURRENT MP |  52w High  |  52w Low\")\n",
        "    print(\"---------------------------------------------------------------------\")\n",
        "    for ticker in tickers:\n",
        "        # get name + ticker + current price\n",
        "        symbol = ticker[\"symbol\"]\n",
        "        quote_url = \"https://yfapi.net/v6/finance/quote\"\n",
        "        querystring = {\"symbols\" : symbol}\n",
        "        response = requests.request(\"GET\", quote_url, headers=headers, params=querystring)\n",
        "\n",
        "        response = response.json()[\"quoteResponse\"][\"result\"][0]\n",
        "        symbol, name, market_price = response[\"symbol\"], response[\"longName\"], response[\"regularMarketPrice\"]\n",
        "\n",
        "        # get 52 high and low\n",
        "        quote_summary_url = \"https://yfapi.net/v11/finance/quoteSummary/\" + symbol\n",
        "        querystring = {\"modules\": \"summaryDetail\"}\n",
        "        response = requests.request(\"GET\", quote_summary_url, headers=headers, params=querystring)\n",
        "        response = response.json()[\"quoteSummary\"][\"result\"][0]\n",
        "        fiftytwo_week_low = response[\"summaryDetail\"][\"fiftyTwoWeekLow\"][\"fmt\"]\n",
        "        fiftytwo_week_high = response[\"summaryDetail\"][\"fiftyTwoWeekHigh\"][\"fmt\"]\n",
        "\n",
        "        print(symbol, \"  |  \", name, \"  |  \", market_price, \"  |  \", fiftytwo_week_high, \"  |  \", fiftytwo_week_low)\n",
        "except Exception as error:\n",
        "    print(\"A problem occured while fetching trending stocks. This is likely related to the limited queries my Yahoo Finance account gets.\")\n",
        "    print(\"Error: \" + error)"
      ],
      "metadata": {
        "colab": {
          "base_uri": "https://localhost:8080/"
        },
        "id": "5-TUFq7--EwD",
        "outputId": "05180d3f-0224-4f14-85ed-e45675b5cd20"
      },
      "execution_count": 32,
      "outputs": [
        {
          "output_type": "stream",
          "name": "stdout",
          "text": [
            "---------------------------------------------------------------------\n",
            "TICKER  |        NAME           |  CURRENT MP |  52w High  |  52w Low\n",
            "---------------------------------------------------------------------\n",
            "NVDA   |   NVIDIA Corporation   |   131.28   |   153.13   |   75.61\n",
            "CRM   |   Salesforce, Inc.   |   307.33   |   369.00   |   212.00\n",
            "SNOW   |   Snowflake Inc.   |   166.19   |   194.40   |   107.13\n",
            "IONQ   |   IonQ, Inc.   |   29.93   |   54.74   |   6.22\n",
            "BYND   |   Beyond Meat, Inc.   |   3.56   |   11.7000   |   3.3000\n",
            "NIO   |   NIO Inc.   |   4.72   |   7.7100   |   3.6100\n",
            "MRNA   |   Moderna, Inc.   |   33.58   |   170.47   |   29.25\n",
            "MARA   |   MARA Holdings, Inc.   |   12.45   |   30.71   |   12.05\n",
            "TDOC   |   Teladoc Health, Inc.   |   10.99   |   15.95   |   6.76\n",
            "APP   |   AppLovin Corporation   |   331.0   |   525.15   |   57.40\n",
            "NTNX   |   Nutanix, Inc.   |   69.35   |   75.80   |   43.35\n",
            "AI   |   C3.ai, Inc.   |   26.44   |   45.08   |   18.85\n",
            "PBR   |   Petróleo Brasileiro S.A. - Petrobras   |   14.32   |   17.44   |   12.55\n",
            "EBAY   |   eBay Inc.   |   69.14   |   71.61   |   46.98\n",
            "ROOT   |   Root, Inc.   |   98.71   |   141.23   |   27.24\n",
            "MULN   |   Mullen Automotive, Inc.   |   4.04   |   47,100.0000   |   2.2900\n",
            "AAP   |   Advance Auto Parts, Inc.   |   37.7   |   88.56   |   35.59\n",
            "PSTG   |   Pure Storage, Inc.   |   62.44   |   73.67   |   44.76\n",
            "OTLY   |   Oatly Group AB   |   8.08   |   26.80   |   6.00\n",
            "SNPS   |   Synopsys, Inc.   |   470.46   |   624.80   |   457.00\n"
          ]
        }
      ]
    }
  ]
}