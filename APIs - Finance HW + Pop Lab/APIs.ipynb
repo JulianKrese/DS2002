{
  "nbformat": 4,
  "nbformat_minor": 0,
  "metadata": {
    "colab": {
      "provenance": []
    },
    "kernelspec": {
      "name": "python3",
      "display_name": "Python 3"
    },
    "language_info": {
      "name": "python"
    }
  },
  "cells": [
    {
      "cell_type": "markdown",
      "source": [
        "Task 1: Fetch Basic Stock Data 10pts\n",
        "- Prompt the user to input two or more stock symbols.\n",
        "- Use the API to fetch data for the given symbols.\n",
        "- Extract and display only the Stock Ticker, Company Name, and Current Market Price"
      ],
      "metadata": {
        "id": "r_Y1MRYgrfqI"
      }
    },
    {
      "cell_type": "code",
      "execution_count": 35,
      "metadata": {
        "colab": {
          "base_uri": "https://localhost:8080/"
        },
        "id": "e8OlHUSprb2y",
        "outputId": "ad51296e-bf32-46d3-eda1-41d96f60ce45"
      },
      "outputs": [
        {
          "output_type": "stream",
          "name": "stdout",
          "text": [
            "Enter 2 or more stock options, separated by commas without spaces\n",
            "AAPL,GOOGL\n",
            "---------------------------------------------\n",
            "TICKER  |     NAME    |  CURRENT MARKET PRICE\n",
            "---------------------------------------------\n",
            "AAPL   |   Apple Inc.   |   247.1\n",
            "GOOGL   |   Alphabet Inc.   |   179.25\n"
          ]
        }
      ],
      "source": [
        "import requests\n",
        "import json\n",
        "\n",
        "apikey = \"TVd8uCH8ud1nnXTKFJgW95WPMAZw48Nm6x73P1Y6\"\n",
        "url = \"https://yfapi.net/v6/finance/quote\"\n",
        "\n",
        "print(\"Enter 2 or more stock options, separated by commas without spaces\")\n",
        "symbols = input()\n",
        "\n",
        "querystring = {\"symbols\" : symbols}\n",
        "headers = {\"x-api-key\" : apikey}\n",
        "\n",
        "response = requests.request(\"GET\", url, headers=headers, params=querystring)\n",
        "response = response.json()[\"quoteResponse\"][\"result\"]\n",
        "print(\"---------------------------------------------\")\n",
        "print(\"TICKER  |     NAME    |  CURRENT MARKET PRICE\")\n",
        "print(\"---------------------------------------------\")\n",
        "for stock_result in response:\n",
        "    symbol, name, market_price = stock_result[\"symbol\"], stock_result[\"longName\"], stock_result[\"regularMarketPrice\"]\n",
        "    print(symbol, \"  |  \", name, \"  |  \", market_price)\n"
      ]
    },
    {
      "cell_type": "markdown",
      "source": [
        "Task 2.1: Fetch Additional Data Using Modules 10pts\n",
        "- Allow the user to choose a module from the Quote Summary Endpoint.\n",
        "Find:\n",
        "  - 52 Week High\n",
        "  - 52 Week Low\n",
        "  - Return on Assets (ROA)\n",
        "- Make an API request using the chosen module.\n",
        "- Convert the response into a Pandas DataFrame.\n",
        "- Display the DataFrame."
      ],
      "metadata": {
        "id": "15FX_Ejg3jQ1"
      }
    },
    {
      "cell_type": "code",
      "source": [
        "import pandas as pd\n",
        "url = \"https://yfapi.net/v11/finance/quoteSummary/AAPL\"\n",
        "\n",
        "print(\"Enter a module for Apple\")\n",
        "module = input()\n",
        "\n",
        "querystring = {\"modules\": module}\n",
        "\n",
        "response = requests.request(\"GET\", url, headers=headers, params=querystring)\n",
        "df = pd.DataFrame(response.json()[\"quoteSummary\"][\"result\"])\n",
        "# need to do some more work here\n",
        "print(df)"
      ],
      "metadata": {
        "colab": {
          "base_uri": "https://localhost:8080/"
        },
        "id": "O2tMbUns3wvt",
        "outputId": "791a509a-18a9-42bb-f40a-18d379eb6fcc"
      },
      "execution_count": 54,
      "outputs": [
        {
          "output_type": "stream",
          "name": "stdout",
          "text": [
            "Enter a module for Apple\n",
            "price\n",
            "                                               price\n",
            "0  {'maxAge': 1, 'preMarketChangePercent': {'raw'...\n"
          ]
        }
      ]
    },
    {
      "cell_type": "markdown",
      "source": [
        "Task 2.2: Fetch Additional Data Using Modules 10pts\n",
        "- Find Current Trending Stocks , Their Actual Name and Ticker and Current Price as well as\n",
        "their 52 high and low"
      ],
      "metadata": {
        "id": "vjzPYZTQ31xJ"
      }
    },
    {
      "cell_type": "code",
      "source": [
        "url = \"https://yfapi.net/v1/finance/trending/US\"\n",
        "\n",
        "response = requests.request(\"GET\", url, headers=headers, params=querystring)\n",
        "tickers = response.json()[\"finance\"][\"result\"][0][\"quotes\"]\n",
        "\n",
        "url = \"https://yfapi.net/v11/finance/quoteSummary/\"\n",
        "\n",
        "for ticker in tickers:\n",
        "    symbol = ticker[\"symbol\"]\n",
        "    # get name + ticker + current price\n",
        "    new_url = \"https://yfapi.net/v6/finance/quote\"\n",
        "    querystring = {\"symbols\" : symbol}\n",
        "    response = requests.request(\"GET\", new_url, headers=headers, params=querystring)\n",
        "    print(response.json())\n",
        "    response = response.json()[\"quoteResponse\"][\"result\"][0]\n",
        "    symbol, name, market_price = response[\"symbol\"], response[\"longName\"], response[\"regularMarketPrice\"]\n",
        "    print(symbol, \"  |  \", name, \"  |  \", market_price)\n",
        "\n",
        "    # get 52 high and low\n",
        "    new_url = url + symbol\n",
        "    # querystring = {\"modules\": \"financialData\"}\n",
        "    # response = requests.request(\"GET\", new_url, headers=headers, params=querystring)\n",
        "    # print(response.json())\n"
      ],
      "metadata": {
        "colab": {
          "base_uri": "https://localhost:8080/",
          "height": 216
        },
        "id": "5-TUFq7--EwD",
        "outputId": "0d4498ff-f758-45f5-f26e-f5e803ab8103"
      },
      "execution_count": 83,
      "outputs": [
        {
          "output_type": "error",
          "ename": "KeyError",
          "evalue": "'finance'",
          "traceback": [
            "\u001b[0;31m---------------------------------------------------------------------------\u001b[0m",
            "\u001b[0;31mKeyError\u001b[0m                                  Traceback (most recent call last)",
            "\u001b[0;32m<ipython-input-83-3a758d8bf145>\u001b[0m in \u001b[0;36m<cell line: 0>\u001b[0;34m()\u001b[0m\n\u001b[1;32m      2\u001b[0m \u001b[0;34m\u001b[0m\u001b[0m\n\u001b[1;32m      3\u001b[0m \u001b[0mresponse\u001b[0m \u001b[0;34m=\u001b[0m \u001b[0mrequests\u001b[0m\u001b[0;34m.\u001b[0m\u001b[0mrequest\u001b[0m\u001b[0;34m(\u001b[0m\u001b[0;34m\"GET\"\u001b[0m\u001b[0;34m,\u001b[0m \u001b[0murl\u001b[0m\u001b[0;34m,\u001b[0m \u001b[0mheaders\u001b[0m\u001b[0;34m=\u001b[0m\u001b[0mheaders\u001b[0m\u001b[0;34m,\u001b[0m \u001b[0mparams\u001b[0m\u001b[0;34m=\u001b[0m\u001b[0mquerystring\u001b[0m\u001b[0;34m)\u001b[0m\u001b[0;34m\u001b[0m\u001b[0;34m\u001b[0m\u001b[0m\n\u001b[0;32m----> 4\u001b[0;31m \u001b[0mtickers\u001b[0m \u001b[0;34m=\u001b[0m \u001b[0mresponse\u001b[0m\u001b[0;34m.\u001b[0m\u001b[0mjson\u001b[0m\u001b[0;34m(\u001b[0m\u001b[0;34m)\u001b[0m\u001b[0;34m[\u001b[0m\u001b[0;34m\"finance\"\u001b[0m\u001b[0;34m]\u001b[0m\u001b[0;34m[\u001b[0m\u001b[0;34m\"result\"\u001b[0m\u001b[0;34m]\u001b[0m\u001b[0;34m[\u001b[0m\u001b[0;36m0\u001b[0m\u001b[0;34m]\u001b[0m\u001b[0;34m[\u001b[0m\u001b[0;34m\"quotes\"\u001b[0m\u001b[0;34m]\u001b[0m\u001b[0;34m\u001b[0m\u001b[0;34m\u001b[0m\u001b[0m\n\u001b[0m\u001b[1;32m      5\u001b[0m \u001b[0;34m\u001b[0m\u001b[0m\n\u001b[1;32m      6\u001b[0m \u001b[0murl\u001b[0m \u001b[0;34m=\u001b[0m \u001b[0;34m\"https://yfapi.net/v11/finance/quoteSummary/\"\u001b[0m\u001b[0;34m\u001b[0m\u001b[0;34m\u001b[0m\u001b[0m\n",
            "\u001b[0;31mKeyError\u001b[0m: 'finance'"
          ]
        }
      ]
    },
    {
      "cell_type": "markdown",
      "source": [
        "Bonus Challenge\n",
        "- Allow users to fetch data for different modules dynamically.\n",
        "- Format currency values properly (e.g., `$1,500,000,000` instead of `1500000000`).\n",
        "- Bonus Challenge 2 (for 10 points) Where is Elon’s Plane Right NOW?\n"
      ],
      "metadata": {
        "id": "orW7-90PzEmZ"
      }
    },
    {
      "cell_type": "code",
      "source": [
        "!pip install pyflightdata"
      ],
      "metadata": {
        "colab": {
          "base_uri": "https://localhost:8080/"
        },
        "id": "41b_kUuTC119",
        "outputId": "c37cf2e9-8426-41f7-a5b8-687d5ced6886"
      },
      "execution_count": 85,
      "outputs": [
        {
          "output_type": "stream",
          "name": "stdout",
          "text": [
            "Collecting pyflightdata\n",
            "  Downloading pyflightdata-0.8.6.2.tar.gz (11 kB)\n",
            "  Preparing metadata (setup.py) ... \u001b[?25l\u001b[?25hdone\n",
            "Requirement already satisfied: lxml in /usr/local/lib/python3.11/dist-packages (from pyflightdata) (5.3.1)\n",
            "Requirement already satisfied: requests in /usr/local/lib/python3.11/dist-packages (from pyflightdata) (2.32.3)\n",
            "Requirement already satisfied: beautifulsoup4 in /usr/local/lib/python3.11/dist-packages (from pyflightdata) (4.13.3)\n",
            "Collecting jsonpath-rw (from pyflightdata)\n",
            "  Downloading jsonpath-rw-1.4.0.tar.gz (13 kB)\n",
            "  Preparing metadata (setup.py) ... \u001b[?25l\u001b[?25hdone\n",
            "Collecting metar (from pyflightdata)\n",
            "  Downloading metar-1.11.0-py3-none-any.whl.metadata (1.7 kB)\n",
            "Requirement already satisfied: html5lib in /usr/local/lib/python3.11/dist-packages (from pyflightdata) (1.1)\n",
            "Requirement already satisfied: soupsieve>1.2 in /usr/local/lib/python3.11/dist-packages (from beautifulsoup4->pyflightdata) (2.6)\n",
            "Requirement already satisfied: typing-extensions>=4.0.0 in /usr/local/lib/python3.11/dist-packages (from beautifulsoup4->pyflightdata) (4.12.2)\n",
            "Requirement already satisfied: six>=1.9 in /usr/local/lib/python3.11/dist-packages (from html5lib->pyflightdata) (1.17.0)\n",
            "Requirement already satisfied: webencodings in /usr/local/lib/python3.11/dist-packages (from html5lib->pyflightdata) (0.5.1)\n",
            "Requirement already satisfied: ply in /usr/local/lib/python3.11/dist-packages (from jsonpath-rw->pyflightdata) (3.11)\n",
            "Requirement already satisfied: decorator in /usr/local/lib/python3.11/dist-packages (from jsonpath-rw->pyflightdata) (4.4.2)\n",
            "Requirement already satisfied: charset-normalizer<4,>=2 in /usr/local/lib/python3.11/dist-packages (from requests->pyflightdata) (3.4.1)\n",
            "Requirement already satisfied: idna<4,>=2.5 in /usr/local/lib/python3.11/dist-packages (from requests->pyflightdata) (3.10)\n",
            "Requirement already satisfied: urllib3<3,>=1.21.1 in /usr/local/lib/python3.11/dist-packages (from requests->pyflightdata) (2.3.0)\n",
            "Requirement already satisfied: certifi>=2017.4.17 in /usr/local/lib/python3.11/dist-packages (from requests->pyflightdata) (2025.1.31)\n",
            "Downloading metar-1.11.0-py3-none-any.whl (201 kB)\n",
            "\u001b[2K   \u001b[90m━━━━━━━━━━━━━━━━━━━━━━━━━━━━━━━━━━━━━━━━\u001b[0m \u001b[32m201.4/201.4 kB\u001b[0m \u001b[31m2.8 MB/s\u001b[0m eta \u001b[36m0:00:00\u001b[0m\n",
            "\u001b[?25hBuilding wheels for collected packages: pyflightdata, jsonpath-rw\n",
            "  Building wheel for pyflightdata (setup.py) ... \u001b[?25l\u001b[?25hdone\n",
            "  Created wheel for pyflightdata: filename=pyflightdata-0.8.6.2-py3-none-any.whl size=19645 sha256=7c2c6bcaf84f557242caff766ca4a2bd39db7fc9a8cf3e6c8cb00b694fe1d631\n",
            "  Stored in directory: /root/.cache/pip/wheels/a6/ec/23/b0b6e3382be9119c047c7016e73ee1675136d390ad0cfdd998\n",
            "  Building wheel for jsonpath-rw (setup.py) ... \u001b[?25l\u001b[?25hdone\n",
            "  Created wheel for jsonpath-rw: filename=jsonpath_rw-1.4.0-py3-none-any.whl size=15130 sha256=a275ff887ae85b4f51e9989d351287a4a70ae825bd84ca8d988ce0f61c97b85f\n",
            "  Stored in directory: /root/.cache/pip/wheels/53/cf/51/a4ea10224b7fdb523e18e2033cadf2a8657517d1f95f3f5413\n",
            "Successfully built pyflightdata jsonpath-rw\n",
            "Installing collected packages: metar, jsonpath-rw, pyflightdata\n",
            "Successfully installed jsonpath-rw-1.4.0 metar-1.11.0 pyflightdata-0.8.6.2\n"
          ]
        }
      ]
    },
    {
      "cell_type": "code",
      "source": [
        "from pyflightdata import FlightData\n",
        "\n",
        "\n",
        "# Tom Cruise\n",
        "\n",
        "tom_cruise_registration = \"N350XX\"\n",
        "tom_cruise_history = f.get_history_by_tail_number(tom_cruise_registration)[0]\n",
        "\n",
        "times = tom_cruise_history[\"time\"][\"real\"]\n",
        "locations = tom_cruise_history[\"airport\"]\n",
        "\n",
        "print(\"For Tom Cruise's most recent flight...\")\n",
        "print(\"\\tDeparted at ...\", times[\"departure_time\"], \"... from ...\", locations[\"origin\"][\"name\"])\n",
        "print(\"\\tArrived at ...\", times[\"arrival_time\"], \"... at ...\", locations[\"destination\"][\"name\"])\n",
        "print()\n",
        "\n",
        "\n",
        "# Taylor Swift\n",
        "\n",
        "taylor_swift_registration = \"N621MM\"\n",
        "taylor_swift__history = f.get_history_by_tail_number(taylor_swift_registration)\n",
        "print(taylor_swift__history)\n",
        "\n",
        "# For whatever reason the embedded API can't find her airplane. I've tried multiple different\n",
        "# APIs and many don't allow (or at least don't document) tracking by tail_number without being\n",
        "# in a specific protocol formatting, so I'm only going to include Tom Cruises- if this gets\n",
        "# no credit I'm ok with that.\n",
        "\n",
        "# for each in taylor_swift__history.keys():\n",
        "#     print(each)\n",
        "#     print(taylor_swift__history[each])\n",
        "#     print(\"--------------\")\n",
        "# times = taylor_swift__history[\"time\"][\"real\"]\n",
        "# locations = taylor_swift__history[\"airport\"]\n",
        "# print(\"For Taylor Swift's most recent flight...\")\n",
        "# print(\"\\tDeparted at ...\", times[\"departure_time\"], \"... from ...\", locations[\"origin\"][\"name\"])\n",
        "# print(\"\\tArrived at ...\", times[\"arrival_time\"], \"... at ...\", locations[\"destination\"][\"name\"])"
      ],
      "metadata": {
        "colab": {
          "base_uri": "https://localhost:8080/"
        },
        "id": "8y13et41C587",
        "outputId": "88c7a83e-bd25-4e6e-f154-f0dcb9ff6983"
      },
      "execution_count": 109,
      "outputs": [
        {
          "output_type": "stream",
          "name": "stdout",
          "text": [
            "For Tom Cruise's most recent flight...\n",
            "\tDeparted at ... 1428 ... from ... Fort Lauderdale Executive Airport\n",
            "\tArrived at ... 1443 ... at ... Fort Lauderdale Hollywood International Airport\n",
            "\n",
            "[]\n"
          ]
        }
      ]
    },
    {
      "cell_type": "code",
      "source": [
        "### flights\n",
        "flight_tracker_url = \"https://api.aviationstack.com/v1/airplanes/\"\n",
        "flight_tracker_api_key = \"\"\n",
        "\n",
        "\n",
        "# tom cruise flight tracking\n",
        "\n",
        "tom_cruise_registration = \"N350XX\"\n",
        "\n",
        "querystring = {\n",
        "    'access_key': flight_tracker_api_key,\n",
        "    \"tail_number\" : tom_cruise_registration\n",
        "}\n",
        "\n",
        "response = requests.request(\"GET\", flight_tracker_url, params=querystring)\n",
        "print(json.dumps(response.json(), indent=4))\n",
        "\n",
        "\n",
        "\n",
        "# taylor swift flight tracking\n",
        "\n",
        "taylor_swift_registration = \"N621MM\"\n",
        "\n",
        "querystring = {\n",
        "    'access_key': flight_tracker_api_key,\n",
        "    \"tail_number\" : tom_cruise_registration\n",
        "}\n",
        "\n",
        "response = requests.request(\"GET\", flight_tracker_url, params=querystring)\n",
        "print(json.dumps(response.json(), indent=4))"
      ],
      "metadata": {
        "colab": {
          "base_uri": "https://localhost:8080/"
        },
        "id": "SlERi5a-zImT",
        "outputId": "92fc760b-e4d5-434b-bfcf-f5651edecb0a"
      },
      "execution_count": 84,
      "outputs": [
        {
          "output_type": "stream",
          "name": "stdout",
          "text": [
            "{\n",
            "    \"error\": {\n",
            "        \"code\": \"internal_error\",\n",
            "        \"message\": \"An error has occured. [Technical Support: support@apilayer.com]\"\n",
            "    }\n",
            "}\n",
            "{\n",
            "    \"error\": {\n",
            "        \"code\": \"internal_error\",\n",
            "        \"message\": \"An error has occured. [Technical Support: support@apilayer.com]\"\n",
            "    }\n",
            "}\n"
          ]
        }
      ]
    }
  ]
}